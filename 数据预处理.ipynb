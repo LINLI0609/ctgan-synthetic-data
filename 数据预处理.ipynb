{
 "cells": [
  {
   "cell_type": "markdown",
   "id": "d7ee6914-444c-443c-a6a7-5e6ecb40f5f1",
   "metadata": {},
   "source": [
    "# 1.数据预处理"
   ]
  },
  {
   "cell_type": "code",
   "execution_count": 1,
   "id": "f7a4ce96-24b0-4477-a42c-bb7c10187afa",
   "metadata": {},
   "outputs": [],
   "source": [
    "# 导入库包\n",
    "import pandas as pd"
   ]
  },
  {
   "cell_type": "code",
   "execution_count": 2,
   "id": "bba4d9c6-6ed3-4c97-89a2-dacaa0e77def",
   "metadata": {},
   "outputs": [
    {
     "name": "stdout",
     "output_type": "stream",
     "text": [
      "   SK_ID_CURR  TARGET NAME_CONTRACT_TYPE CODE_GENDER FLAG_OWN_CAR  \\\n",
      "0      100002       1         Cash loans           M            N   \n",
      "1      100003       0         Cash loans           F            N   \n",
      "2      100004       0    Revolving loans           M            Y   \n",
      "3      100006       0         Cash loans           F            N   \n",
      "4      100007       0         Cash loans           M            N   \n",
      "\n",
      "  FLAG_OWN_REALTY  CNT_CHILDREN  AMT_INCOME_TOTAL  AMT_CREDIT  AMT_ANNUITY  \\\n",
      "0               Y             0          202500.0    406597.5      24700.5   \n",
      "1               N             0          270000.0   1293502.5      35698.5   \n",
      "2               Y             0           67500.0    135000.0       6750.0   \n",
      "3               Y             0          135000.0    312682.5      29686.5   \n",
      "4               Y             0          121500.0    513000.0      21865.5   \n",
      "\n",
      "   ...  FLAG_DOCUMENT_18 FLAG_DOCUMENT_19 FLAG_DOCUMENT_20 FLAG_DOCUMENT_21  \\\n",
      "0  ...                 0                0                0                0   \n",
      "1  ...                 0                0                0                0   \n",
      "2  ...                 0                0                0                0   \n",
      "3  ...                 0                0                0                0   \n",
      "4  ...                 0                0                0                0   \n",
      "\n",
      "  AMT_REQ_CREDIT_BUREAU_HOUR AMT_REQ_CREDIT_BUREAU_DAY  \\\n",
      "0                        0.0                       0.0   \n",
      "1                        0.0                       0.0   \n",
      "2                        0.0                       0.0   \n",
      "3                        NaN                       NaN   \n",
      "4                        0.0                       0.0   \n",
      "\n",
      "   AMT_REQ_CREDIT_BUREAU_WEEK  AMT_REQ_CREDIT_BUREAU_MON  \\\n",
      "0                         0.0                        0.0   \n",
      "1                         0.0                        0.0   \n",
      "2                         0.0                        0.0   \n",
      "3                         NaN                        NaN   \n",
      "4                         0.0                        0.0   \n",
      "\n",
      "   AMT_REQ_CREDIT_BUREAU_QRT  AMT_REQ_CREDIT_BUREAU_YEAR  \n",
      "0                        0.0                         1.0  \n",
      "1                        0.0                         0.0  \n",
      "2                        0.0                         0.0  \n",
      "3                        NaN                         NaN  \n",
      "4                        0.0                         0.0  \n",
      "\n",
      "[5 rows x 122 columns]\n"
     ]
    }
   ],
   "source": [
    "# 读取数据文件\n",
    "df = pd.read_csv('data.csv')\n",
    "\n",
    "# 显示前5行数据\n",
    "print(df.head())"
   ]
  },
  {
   "cell_type": "code",
   "execution_count": 3,
   "id": "40a4cb7c-a531-4dc7-8443-9f2fc6eb0a6f",
   "metadata": {},
   "outputs": [
    {
     "name": "stdout",
     "output_type": "stream",
     "text": [
      "<class 'pandas.core.frame.DataFrame'>\n",
      "RangeIndex: 307511 entries, 0 to 307510\n",
      "Columns: 122 entries, SK_ID_CURR to AMT_REQ_CREDIT_BUREAU_YEAR\n",
      "dtypes: float64(65), int64(41), object(16)\n",
      "memory usage: 286.2+ MB\n"
     ]
    }
   ],
   "source": [
    "# 显示数据集信息\n",
    "df.info()"
   ]
  },
  {
   "cell_type": "code",
   "execution_count": 4,
   "id": "3bf3ba32-6505-4dd6-97f2-ea4736445233",
   "metadata": {},
   "outputs": [
    {
     "name": "stdout",
     "output_type": "stream",
     "text": [
      "(307511, 122)\n"
     ]
    }
   ],
   "source": [
    "# 数据集的行数和列数\n",
    "print(df.shape)"
   ]
  },
  {
   "cell_type": "code",
   "execution_count": 5,
   "id": "b6572b9e-2e31-4ebb-9af5-54ae00a47d6d",
   "metadata": {},
   "outputs": [
    {
     "name": "stdout",
     "output_type": "stream",
     "text": [
      "SK_ID_CURR                        0\n",
      "TARGET                            0\n",
      "NAME_CONTRACT_TYPE                0\n",
      "CODE_GENDER                       0\n",
      "FLAG_OWN_CAR                      0\n",
      "                              ...  \n",
      "AMT_REQ_CREDIT_BUREAU_DAY     41519\n",
      "AMT_REQ_CREDIT_BUREAU_WEEK    41519\n",
      "AMT_REQ_CREDIT_BUREAU_MON     41519\n",
      "AMT_REQ_CREDIT_BUREAU_QRT     41519\n",
      "AMT_REQ_CREDIT_BUREAU_YEAR    41519\n",
      "Length: 122, dtype: int64\n"
     ]
    }
   ],
   "source": [
    "# 每一列数据的缺失值\n",
    "print(df.isnull().sum())"
   ]
  },
  {
   "cell_type": "code",
   "execution_count": 6,
   "id": "26f6e99a-8819-4451-b03c-5844621e6416",
   "metadata": {},
   "outputs": [
    {
     "name": "stdout",
     "output_type": "stream",
     "text": [
      "                               count unique         top    freq  \\\n",
      "SK_ID_CURR                  307511.0    NaN         NaN     NaN   \n",
      "TARGET                      307511.0    NaN         NaN     NaN   \n",
      "NAME_CONTRACT_TYPE            307511      2  Cash loans  278232   \n",
      "CODE_GENDER                   307511      3           F  202448   \n",
      "FLAG_OWN_CAR                  307511      2           N  202924   \n",
      "...                              ...    ...         ...     ...   \n",
      "AMT_REQ_CREDIT_BUREAU_DAY   265992.0    NaN         NaN     NaN   \n",
      "AMT_REQ_CREDIT_BUREAU_WEEK  265992.0    NaN         NaN     NaN   \n",
      "AMT_REQ_CREDIT_BUREAU_MON   265992.0    NaN         NaN     NaN   \n",
      "AMT_REQ_CREDIT_BUREAU_QRT   265992.0    NaN         NaN     NaN   \n",
      "AMT_REQ_CREDIT_BUREAU_YEAR  265992.0    NaN         NaN     NaN   \n",
      "\n",
      "                                     mean            std       min       25%  \\\n",
      "SK_ID_CURR                  278180.518577  102790.175348  100002.0  189145.5   \n",
      "TARGET                           0.080729       0.272419       0.0       0.0   \n",
      "NAME_CONTRACT_TYPE                    NaN            NaN       NaN       NaN   \n",
      "CODE_GENDER                           NaN            NaN       NaN       NaN   \n",
      "FLAG_OWN_CAR                          NaN            NaN       NaN       NaN   \n",
      "...                                   ...            ...       ...       ...   \n",
      "AMT_REQ_CREDIT_BUREAU_DAY           0.007       0.110757       0.0       0.0   \n",
      "AMT_REQ_CREDIT_BUREAU_WEEK       0.034362       0.204685       0.0       0.0   \n",
      "AMT_REQ_CREDIT_BUREAU_MON        0.267395       0.916002       0.0       0.0   \n",
      "AMT_REQ_CREDIT_BUREAU_QRT        0.265474       0.794056       0.0       0.0   \n",
      "AMT_REQ_CREDIT_BUREAU_YEAR       1.899974       1.869295       0.0       0.0   \n",
      "\n",
      "                                 50%       75%       max  \n",
      "SK_ID_CURR                  278202.0  367142.5  456255.0  \n",
      "TARGET                           0.0       0.0       1.0  \n",
      "NAME_CONTRACT_TYPE               NaN       NaN       NaN  \n",
      "CODE_GENDER                      NaN       NaN       NaN  \n",
      "FLAG_OWN_CAR                     NaN       NaN       NaN  \n",
      "...                              ...       ...       ...  \n",
      "AMT_REQ_CREDIT_BUREAU_DAY        0.0       0.0       9.0  \n",
      "AMT_REQ_CREDIT_BUREAU_WEEK       0.0       0.0       8.0  \n",
      "AMT_REQ_CREDIT_BUREAU_MON        0.0       0.0      27.0  \n",
      "AMT_REQ_CREDIT_BUREAU_QRT        0.0       0.0     261.0  \n",
      "AMT_REQ_CREDIT_BUREAU_YEAR       1.0       3.0      25.0  \n",
      "\n",
      "[122 rows x 11 columns]\n"
     ]
    }
   ],
   "source": [
    "# 数据集的统计描述\n",
    "print(df.describe(include='all').T)"
   ]
  },
  {
   "cell_type": "code",
   "execution_count": 8,
   "id": "6d3ca14f-02b1-4676-823c-4818f4e7fea8",
   "metadata": {},
   "outputs": [
    {
     "name": "stdout",
     "output_type": "stream",
     "text": [
      "   TARGET NAME_CONTRACT_TYPE CODE_GENDER FLAG_OWN_CAR FLAG_OWN_REALTY  \\\n",
      "0       1         Cash loans           M            N               Y   \n",
      "1       0         Cash loans           F            N               N   \n",
      "2       0    Revolving loans           M            Y               Y   \n",
      "3       0         Cash loans           F            N               Y   \n",
      "4       0         Cash loans           M            N               Y   \n",
      "\n",
      "   CNT_CHILDREN  AMT_INCOME_TOTAL  AMT_CREDIT  AMT_ANNUITY  AMT_GOODS_PRICE  \n",
      "0             0          202500.0    406597.5      24700.5         351000.0  \n",
      "1             0          270000.0   1293502.5      35698.5        1129500.0  \n",
      "2             0           67500.0    135000.0       6750.0         135000.0  \n",
      "3             0          135000.0    312682.5      29686.5         297000.0  \n",
      "4             0          121500.0    513000.0      21865.5         513000.0  \n"
     ]
    }
   ],
   "source": [
    "# 删除多余的列名\n",
    "columns_to_keep = [\n",
    "    \"TARGET\",\n",
    "    \"NAME_CONTRACT_TYPE\",\n",
    "    \"CODE_GENDER\",\n",
    "    \"FLAG_OWN_CAR\",\n",
    "    \"FLAG_OWN_REALTY\",\n",
    "    \"CNT_CHILDREN\",\n",
    "    \"AMT_INCOME_TOTAL\",\n",
    "    \"AMT_CREDIT\",\n",
    "    \"AMT_ANNUITY\",\n",
    "    \"AMT_GOODS_PRICE\"\n",
    "]\n",
    "\n",
    "# 使用 DataFrame 的方括号[]操作来选择指定的列\n",
    "df = df[columns_to_keep]\n",
    "\n",
    "# 查看前5行数据\n",
    "print(df.head())"
   ]
  },
  {
   "cell_type": "code",
   "execution_count": 9,
   "id": "705c846a-8f19-44db-aa2f-b7fbc244815e",
   "metadata": {},
   "outputs": [
    {
     "name": "stdout",
     "output_type": "stream",
     "text": [
      "数据的行数和列数： (10000, 10)\n"
     ]
    }
   ],
   "source": [
    "# 保留前一万条数据\n",
    "df = df.head(10000)\n",
    "\n",
    "# 打印数据的行数和列数\n",
    "print(\"数据的行数和列数：\", df.shape)"
   ]
  },
  {
   "cell_type": "code",
   "execution_count": 10,
   "id": "dfb564f7-ee42-471c-8d6b-c178f95ec46d",
   "metadata": {},
   "outputs": [
    {
     "name": "stdout",
     "output_type": "stream",
     "text": [
      "删除缺失值后的数据形状： (9993, 10)\n",
      "每一列的缺失值数量：\n",
      "TARGET                0\n",
      "NAME_CONTRACT_TYPE    0\n",
      "CODE_GENDER           0\n",
      "FLAG_OWN_CAR          0\n",
      "FLAG_OWN_REALTY       0\n",
      "CNT_CHILDREN          0\n",
      "AMT_INCOME_TOTAL      0\n",
      "AMT_CREDIT            0\n",
      "AMT_ANNUITY           0\n",
      "AMT_GOODS_PRICE       0\n",
      "dtype: int64\n"
     ]
    }
   ],
   "source": [
    "# 删除存在缺失值的行\n",
    "# inplace=True 表示在原 df 上直接修改，不会返回新的 DataFrame\n",
    "df.dropna(inplace=True)\n",
    "# 再次打印数据的形状，确认缺失值的行已删除\n",
    "print(\"删除缺失值后的数据形状：\", df.shape)\n",
    "\n",
    "# 如果想确认是否还存在缺失值，可以用 isnull().sum()\n",
    "print(\"每一列的缺失值数量：\")\n",
    "print(df.isnull().sum())"
   ]
  },
  {
   "cell_type": "code",
   "execution_count": 11,
   "id": "c25c4638-a9ac-4092-b226-d405a0b4f4a1",
   "metadata": {},
   "outputs": [
    {
     "name": "stdout",
     "output_type": "stream",
     "text": [
      "数据已保存为 data_clean.csv\n"
     ]
    }
   ],
   "source": [
    "# 将清洗以后的文件保存为新的csv文件\n",
    "# index=False 表示不把行索引保存到文件中\n",
    "# encoding=\"utf-8\" 表示使用 UTF-8 编码保存（兼容性较好）\n",
    "\n",
    "df.to_csv(\"data_clean.csv\", index=False, encoding=\"utf-8\")\n",
    "\n",
    "print(\"数据已保存为 data_clean.csv\")"
   ]
  },
  {
   "cell_type": "code",
   "execution_count": null,
   "id": "bf1512d1-61db-49e2-89c2-2c4bf5a85fa1",
   "metadata": {},
   "outputs": [],
   "source": []
  }
 ],
 "metadata": {
  "kernelspec": {
   "display_name": "Python (py10_torch271)",
   "language": "python",
   "name": "py10_torch271"
  },
  "language_info": {
   "codemirror_mode": {
    "name": "ipython",
    "version": 3
   },
   "file_extension": ".py",
   "mimetype": "text/x-python",
   "name": "python",
   "nbconvert_exporter": "python",
   "pygments_lexer": "ipython3",
   "version": "3.10.18"
  }
 },
 "nbformat": 4,
 "nbformat_minor": 5
}
